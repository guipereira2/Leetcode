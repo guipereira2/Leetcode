{
 "cells": [
  {
   "cell_type": "markdown",
   "metadata": {},
   "source": [
    "# 1. Two Sum"
   ]
  },
  {
   "cell_type": "markdown",
   "metadata": {},
   "source": [
    "Given an array of integers `nums` and an integer `target`, return indices of the two numbers such that they add up to `target`.\n",
    "\n",
    "You may assume that each input would have exactly *one solution*, and you may not use the same element twice.\n",
    "\n",
    "You can return the answer in any order.\n",
    "\n"
   ]
  },
  {
   "cell_type": "markdown",
   "metadata": {},
   "source": [
    "Example 1:\n",
    "\n",
    "- **Input**: nums = [2,7,11,15], target = 9\n",
    "- **Output**: [0,1]\n",
    "- **Explanation**: Because nums[0] + nums[1] == 9, we return [0, 1].\n",
    "\n",
    "Example 2:\n",
    "\n",
    "- **Input**: nums = [3,2,4], target = 6\n",
    "- **Output**: [1,2]\n",
    "\n",
    "Example 3:\n",
    "\n",
    "- **Input**: nums = [3,3], target = 6\n",
    "- **Output**: [0,1]"
   ]
  },
  {
   "cell_type": "markdown",
   "metadata": {},
   "source": [
    "## Primeira solução por força bruta"
   ]
  },
  {
   "cell_type": "markdown",
   "metadata": {},
   "source": [
    "- Abordagem: Usar força bruta para percorre todos itens e comparar a soma com o target"
   ]
  },
  {
   "cell_type": "code",
   "execution_count": 1,
   "metadata": {},
   "outputs": [],
   "source": [
    "def twoSum_forca_bruta(nums, target):\n",
    "        # Cria uma array para armazenar os índices\n",
    "        arr = []\n",
    "        # Percorre a array usando força bruta comparando todos os valores \n",
    "        for i, valor_1 in enumerate(nums): \n",
    "            for j, valor_2 in enumerate(nums): \n",
    "                # Verifica se a soma dos valores corresponde ao target, se os índices são diferentes e se o valor já não está na array em outra ordem\n",
    "                if valor_1 + valor_2 == target and ([j,i]) not in arr and i!=j: \n",
    "                    # Adiciona na array\n",
    "                    arr.append([i,j])\n",
    "        # Usa o pop para retornar os valores \n",
    "        for i in arr: \n",
    "            return arr.pop()"
   ]
  },
  {
   "cell_type": "markdown",
   "metadata": {},
   "source": [
    "- Complexidade: $O(n^2)$ "
   ]
  },
  {
   "cell_type": "code",
   "execution_count": 2,
   "metadata": {},
   "outputs": [
    {
     "data": {
      "text/plain": [
       "[0, 1]"
      ]
     },
     "execution_count": 2,
     "metadata": {},
     "output_type": "execute_result"
    }
   ],
   "source": [
    "# Exemplo 1: \n",
    "nums_1 = [2,7,11,15]\n",
    "target_1 = 9\n",
    "twoSum_forca_bruta(nums_1, target_1)"
   ]
  },
  {
   "cell_type": "code",
   "execution_count": 3,
   "metadata": {},
   "outputs": [
    {
     "data": {
      "text/plain": [
       "[1, 2]"
      ]
     },
     "execution_count": 3,
     "metadata": {},
     "output_type": "execute_result"
    }
   ],
   "source": [
    "# Exemplo 2: \n",
    "nums_2 = [3,2,4]\n",
    "target_2 = 6\n",
    "twoSum_forca_bruta(nums_2, target_2)"
   ]
  },
  {
   "cell_type": "code",
   "execution_count": 4,
   "metadata": {},
   "outputs": [
    {
     "data": {
      "text/plain": [
       "[0, 1]"
      ]
     },
     "execution_count": 4,
     "metadata": {},
     "output_type": "execute_result"
    }
   ],
   "source": [
    "# Exemplo 3: \n",
    "nums_3 = [3,3] \n",
    "target_3 = 6 \n",
    "twoSum_forca_bruta(nums_3, target_3)"
   ]
  },
  {
   "cell_type": "markdown",
   "metadata": {},
   "source": [
    "## Segunda solução "
   ]
  },
  {
   "cell_type": "markdown",
   "metadata": {},
   "source": [
    "- Abordagem: Ordernar a lista. Em seguida, armazenar os índices originais em um hashmap, então dois ponteiros são utilizados: um no início e outro no final da lista ordenada. É feita a comparação da soma dos elementos dos ponteiros com o target. Se for igual, o hashmap é consultado para retornar os índices. Se for maior, o ponteiro da direita é decrementado. Se for menor o ponteiro da esquerda é incrementado. "
   ]
  },
  {
   "cell_type": "code",
   "execution_count": 5,
   "metadata": {},
   "outputs": [],
   "source": [
    "def twoSum_hash(nums, target):\n",
    "        esquerda = 0\n",
    "        direita = len(nums) - 1\n",
    "        hashmap_indices = {}\n",
    "\n",
    "        # Adiciona os valores e índices no hashmap\n",
    "        for indice, valor in enumerate(nums):\n",
    "            if valor in hashmap_indices:\n",
    "                hashmap_indices[valor].append(indice) \n",
    "            else: \n",
    "                hashmap_indices[valor] = [indice]\n",
    "        # Ordena a array\n",
    "        nums.sort()\n",
    "        # Percorre a array com o uso dos ponteiros\n",
    "        while esquerda != direita: \n",
    "            # Se a soma é igual o target retorna os índices \n",
    "            if nums[esquerda] + nums[direita] == target: \n",
    "                indice_esquerda = hashmap_indices[nums[esquerda]]\n",
    "                indice_direita =  hashmap_indices[nums[direita]]\n",
    "                return [indice_esquerda.pop(), indice_direita.pop()]\n",
    "            # Se é menor que o target incrementa o ponteiro esquerda\n",
    "            elif nums[esquerda] + nums[direita] < target: \n",
    "                esquerda += 1 \n",
    "            # Se é maior que o target decrementa o ponteiro direita\n",
    "            elif nums[esquerda] + nums[direita] > target: \n",
    "                direita -= 1\n",
    "        return []"
   ]
  },
  {
   "cell_type": "markdown",
   "metadata": {},
   "source": [
    "- Complexidade: $O(nlogn)$"
   ]
  },
  {
   "cell_type": "code",
   "execution_count": 6,
   "metadata": {},
   "outputs": [
    {
     "data": {
      "text/plain": [
       "[0, 1]"
      ]
     },
     "execution_count": 6,
     "metadata": {},
     "output_type": "execute_result"
    }
   ],
   "source": [
    "# Exemplo 1: \n",
    "nums_1 = [2,7,11,15]\n",
    "target_1 = 9\n",
    "twoSum_hash(nums_1, target_1)"
   ]
  },
  {
   "cell_type": "code",
   "execution_count": 7,
   "metadata": {},
   "outputs": [
    {
     "data": {
      "text/plain": [
       "[1, 2]"
      ]
     },
     "execution_count": 7,
     "metadata": {},
     "output_type": "execute_result"
    }
   ],
   "source": [
    "# Exemplo 2: \n",
    "nums_2 = [3,2,4]\n",
    "target_2 = 6\n",
    "twoSum_hash(nums_2, target_2)"
   ]
  },
  {
   "cell_type": "code",
   "execution_count": 8,
   "metadata": {},
   "outputs": [
    {
     "data": {
      "text/plain": [
       "[1, 0]"
      ]
     },
     "execution_count": 8,
     "metadata": {},
     "output_type": "execute_result"
    }
   ],
   "source": [
    "# Exemplo 3: \n",
    "nums_3 = [3,3] \n",
    "target_3 = 6 \n",
    "twoSum_hash(nums_3, target_3)"
   ]
  }
 ],
 "metadata": {
  "kernelspec": {
   "display_name": "base",
   "language": "python",
   "name": "python3"
  },
  "language_info": {
   "codemirror_mode": {
    "name": "ipython",
    "version": 3
   },
   "file_extension": ".py",
   "mimetype": "text/x-python",
   "name": "python",
   "nbconvert_exporter": "python",
   "pygments_lexer": "ipython3",
   "version": "3.11.11"
  }
 },
 "nbformat": 4,
 "nbformat_minor": 2
}
