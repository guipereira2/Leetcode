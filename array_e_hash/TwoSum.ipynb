{
 "cells": [
  {
   "cell_type": "markdown",
   "metadata": {},
   "source": [
    "# 1. Two Sum"
   ]
  },
  {
   "cell_type": "markdown",
   "metadata": {},
   "source": [
    "Given an array of integers `nums` and an integer `target`, return indices of the two numbers such that they add up to `target`.\n",
    "\n",
    "You may assume that each input would have exactly *one solution*, and you may not use the same element twice.\n",
    "\n",
    "You can return the answer in any order.\n",
    "\n"
   ]
  },
  {
   "cell_type": "markdown",
   "metadata": {},
   "source": [
    "Example 1:\n",
    "\n",
    "- **Input**: nums = [2,7,11,15], target = 9\n",
    "- **Output**: [0,1]\n",
    "- **Explanation**: Because nums[0] + nums[1] == 9, we return [0, 1].\n",
    "\n",
    "Example 2:\n",
    "\n",
    "- **Input**: nums = [3,2,4], target = 6\n",
    "- **Output**: [1,2]\n",
    "\n",
    "Example 3:\n",
    "\n",
    "- **Input**: nums = [3,3], target = 6\n",
    "- **Output**: [0,1]"
   ]
  },
  {
   "cell_type": "markdown",
   "metadata": {},
   "source": [
    "## Primeira solução por força bruta"
   ]
  },
  {
   "cell_type": "code",
   "execution_count": 3,
   "metadata": {},
   "outputs": [],
   "source": [
    "def twoSum_forca_bruta(nums, target):\n",
    "        # Cria uma array para armazenar os índices\n",
    "        arr = []\n",
    "        # Percorre a array usando força bruta comparando todos os valores \n",
    "        for i, valor_1 in enumerate(nums): \n",
    "            for j, valor_2 in enumerate(nums): \n",
    "                # Verifica se a soma dos valores corresponde ao target, se os índices são diferentes e se o valor já não está na array em outra ordem\n",
    "                if valor_1 + valor_2 == target and ([j,i]) not in arr and i!=j: \n",
    "                    # Adiciona na array\n",
    "                    arr.append([i,j])\n",
    "        # Usa o pop para retornar os valores \n",
    "        for i in arr: \n",
    "            return arr.pop()"
   ]
  },
  {
   "cell_type": "markdown",
   "metadata": {},
   "source": [
    "- Complexidade: $O(n^2)$ "
   ]
  },
  {
   "cell_type": "code",
   "execution_count": 6,
   "metadata": {},
   "outputs": [
    {
     "data": {
      "text/plain": [
       "[0, 1]"
      ]
     },
     "execution_count": 6,
     "metadata": {},
     "output_type": "execute_result"
    }
   ],
   "source": [
    "# Exemplo 1: \n",
    "nums_1 = [2,7,11,15]\n",
    "target_1 = 9\n",
    "twoSum_forca_bruta(nums_1, target_1)"
   ]
  },
  {
   "cell_type": "code",
   "execution_count": 7,
   "metadata": {},
   "outputs": [
    {
     "data": {
      "text/plain": [
       "[1, 2]"
      ]
     },
     "execution_count": 7,
     "metadata": {},
     "output_type": "execute_result"
    }
   ],
   "source": [
    "# Exemplo 2: \n",
    "nums_2 = [3,2,4]\n",
    "target_2 = 6\n",
    "twoSum_forca_bruta(nums_2, target_2)"
   ]
  },
  {
   "cell_type": "code",
   "execution_count": 8,
   "metadata": {},
   "outputs": [
    {
     "data": {
      "text/plain": [
       "[0, 1]"
      ]
     },
     "execution_count": 8,
     "metadata": {},
     "output_type": "execute_result"
    }
   ],
   "source": [
    "# Exemplo 3: \n",
    "nums_3 = [3,3] \n",
    "target_3 = 6 \n",
    "twoSum_forca_bruta(nums_3, target_3)"
   ]
  },
  {
   "cell_type": "markdown",
   "metadata": {},
   "source": [
    "## Segunda solução "
   ]
  }
 ],
 "metadata": {
  "kernelspec": {
   "display_name": "base",
   "language": "python",
   "name": "python3"
  },
  "language_info": {
   "codemirror_mode": {
    "name": "ipython",
    "version": 3
   },
   "file_extension": ".py",
   "mimetype": "text/x-python",
   "name": "python",
   "nbconvert_exporter": "python",
   "pygments_lexer": "ipython3",
   "version": "3.11.11"
  }
 },
 "nbformat": 4,
 "nbformat_minor": 2
}
