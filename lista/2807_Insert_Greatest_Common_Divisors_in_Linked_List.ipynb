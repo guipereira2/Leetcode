{
 "cells": [
  {
   "cell_type": "markdown",
   "metadata": {},
   "source": [
    "# 2807. Insert Greatest Common Divisors in Linked List"
   ]
  },
  {
   "cell_type": "markdown",
   "metadata": {},
   "source": [
    "Given the head of a linked list `head`, in which each node contains an integer value.\n",
    "\n",
    "Between every pair of adjacent nodes, insert a new node with a value equal to the greatest common divisor of them.\n",
    "\n",
    "Return the linked list after insertion.\n",
    "\n",
    "The **greatest common divisor** of two numbers is the largest positive integer that evenly divides both numbers."
   ]
  },
  {
   "cell_type": "markdown",
   "metadata": {},
   "source": [
    "Example 1: \n",
    "\n",
    "- **Input**: head = [18,6,10,3]\n",
    "\n",
    "- **Output**: [18,6,6,2,10,1,3]\n",
    "\n",
    "- **Explanation**: The 1st diagram denotes the initial linked list and the 2nd diagram denotes the linked list after inserting the new nodes (nodes in blue are the inserted nodes).\n",
    "    - We insert the greatest common divisor of 18 and 6 = 6 between the 1st and the 2nd nodes.\n",
    "    - We insert the greatest common divisor of 6 and 10 = 2 between the 2nd and the 3rd nodes.\n",
    "    - We insert the greatest common divisor of 10 and 3 = 1 between the 3rd and the 4th nodes.\n",
    "    - There are no more adjacent nodes, so we return the linked list."
   ]
  },
  {
   "cell_type": "markdown",
   "metadata": {},
   "source": [
    "Example 2: \n",
    "\n",
    "- **Input**: head = [7] \n",
    "- **Output**: [7]\n",
    "- **Explanation:** The 1st diagram denotes the initial linked list and the 2nd diagram denotes the linked list after inserting the new nodes.\n",
    "    - There are no pairs of adjacent nodes, so we return the initial linked list."
   ]
  },
  {
   "cell_type": "markdown",
   "metadata": {},
   "source": [
    "## Primeira solução percorrendo a lista\n",
    "\n",
    "- Abordagem: Percorrer a lista e para cada par de nós adjacentes, calcular o MDC e inserir um novo nó com esse valor entre eles. "
   ]
  },
  {
   "cell_type": "code",
   "execution_count": 1,
   "metadata": {},
   "outputs": [],
   "source": [
    "class ListNode:\n",
    "    def __init__(self, val=0, next=None):\n",
    "        self.val = val\n",
    "        self.next = next\n",
    "\n",
    "def criar_lista(valores): \n",
    "    head = ListNode(valores[0])\n",
    "    atual = head \n",
    "\n",
    "    for valor in valores[1:]: \n",
    "        atual.next = ListNode(valor) \n",
    "        atual = atual.next \n",
    "\n",
    "    return head\n",
    "\n",
    "def insertGreatestCommonDivisors_percorrer(head):\n",
    "    atual = head\n",
    "    import math\n",
    "    # Equanto atual.next não é None\n",
    "    while atual.next != None: \n",
    "        # Calcula o valor do novo nó\n",
    "        novo_valor = math.gcd(atual.val, atual.next.val)\n",
    "        # Cria o novo nó\n",
    "        novo_no = ListNode(novo_valor)\n",
    "        # Passa o next do novo nó para o next do nó atual \n",
    "        novo_no.next = atual.next\n",
    "        # O next do nó atual é o novo nó\n",
    "        atual.next = novo_no\n",
    "        # Pula pro next.next para pular o novo nó\n",
    "        atual = atual.next.next\n",
    "    return head"
   ]
  },
  {
   "cell_type": "markdown",
   "metadata": {},
   "source": [
    "- Complexidade: $O(n)$ "
   ]
  },
  {
   "cell_type": "code",
   "execution_count": 2,
   "metadata": {},
   "outputs": [
    {
     "name": "stdout",
     "output_type": "stream",
     "text": [
      "[18, 6, 6, 2, 10, 1, 3]\n"
     ]
    }
   ],
   "source": [
    "# Exemplo 1\n",
    "head_1 = [18,6,10,3]\n",
    "lista_1 = criar_lista(head_1) \n",
    "insertGreatestCommonDivisors_percorrer(lista_1)\n",
    "def imprimir_lista(head):\n",
    "    valores = []\n",
    "    atual = head\n",
    "    while atual: \n",
    "        valores.append(atual.val)\n",
    "        atual = atual.next \n",
    "    print(valores)\n",
    "imprimir_lista(lista_1)"
   ]
  },
  {
   "cell_type": "code",
   "execution_count": 3,
   "metadata": {},
   "outputs": [
    {
     "name": "stdout",
     "output_type": "stream",
     "text": [
      "[7]\n"
     ]
    }
   ],
   "source": [
    "# Exemplo 2\n",
    "head_2 = [7]\n",
    "lista_2 = criar_lista(head_2) \n",
    "insertGreatestCommonDivisors_percorrer(lista_2)\n",
    "def imprimir_lista(head):\n",
    "    valores = []\n",
    "    atual = head\n",
    "    while atual: \n",
    "        valores.append(atual.val)\n",
    "        atual = atual.next \n",
    "    print(valores)\n",
    "imprimir_lista(lista_2)"
   ]
  },
  {
   "cell_type": "markdown",
   "metadata": {},
   "source": [
    "## Segunda resolução usando recursão "
   ]
  },
  {
   "cell_type": "markdown",
   "metadata": {},
   "source": [
    "- Abordagem: Percorrer a lista recursivamente e para cada par de nós adjacentes, calcular o MDC e inserir um novo nó com esse valor entre eles. "
   ]
  },
  {
   "cell_type": "code",
   "execution_count": 4,
   "metadata": {},
   "outputs": [],
   "source": [
    "def insertGreatestCommonDivisors_recursivo(head):\n",
    "    # Caso base da recursão \n",
    "    if head is None or head.next is None: \n",
    "        return head\n",
    "    \n",
    "    import math\n",
    "    # Calcula o valor do novo nó \n",
    "    novo_valor = math.gcd(head.val, head.next.val)\n",
    "    # Cria o novo nó\n",
    "    novo_no = ListNode(novo_valor)\n",
    "    \n",
    "    # Passa o next do novo nó para o next do nó atual \n",
    "    novo_no.next = head.next \n",
    "\n",
    "    # Passa o next do atual para o novo nó\n",
    "    head.next = novo_no \n",
    "\n",
    "    # Percorre recursivamente\n",
    "    insertGreatestCommonDivisors_recursivo(head.next.next)\n",
    "    return head"
   ]
  },
  {
   "cell_type": "markdown",
   "metadata": {},
   "source": [
    "- Complexidade: $O(n)$ "
   ]
  },
  {
   "cell_type": "code",
   "execution_count": 5,
   "metadata": {},
   "outputs": [
    {
     "name": "stdout",
     "output_type": "stream",
     "text": [
      "[18, 6, 6, 2, 10, 1, 3]\n"
     ]
    }
   ],
   "source": [
    "# Exemplo 1\n",
    "head_1 = [18,6,10,3]\n",
    "lista_1 = criar_lista(head_1) \n",
    "insertGreatestCommonDivisors_recursivo(lista_1)\n",
    "def imprimir_lista(head):\n",
    "    valores = []\n",
    "    atual = head\n",
    "    while atual: \n",
    "        valores.append(atual.val)\n",
    "        atual = atual.next \n",
    "    print(valores)\n",
    "imprimir_lista(lista_1)"
   ]
  },
  {
   "cell_type": "code",
   "execution_count": 6,
   "metadata": {},
   "outputs": [
    {
     "name": "stdout",
     "output_type": "stream",
     "text": [
      "[7]\n"
     ]
    }
   ],
   "source": [
    "# Exemplo 2\n",
    "head_2 = [7]\n",
    "lista_2 = criar_lista(head_2) \n",
    "insertGreatestCommonDivisors_recursivo(lista_2)\n",
    "def imprimir_lista(head):\n",
    "    valores = []\n",
    "    atual = head\n",
    "    while atual: \n",
    "        valores.append(atual.val)\n",
    "        atual = atual.next \n",
    "    print(valores)\n",
    "imprimir_lista(lista_2)"
   ]
  }
 ],
 "metadata": {
  "kernelspec": {
   "display_name": "base",
   "language": "python",
   "name": "python3"
  },
  "language_info": {
   "codemirror_mode": {
    "name": "ipython",
    "version": 3
   },
   "file_extension": ".py",
   "mimetype": "text/x-python",
   "name": "python",
   "nbconvert_exporter": "python",
   "pygments_lexer": "ipython3",
   "version": "3.11.11"
  }
 },
 "nbformat": 4,
 "nbformat_minor": 2
}
