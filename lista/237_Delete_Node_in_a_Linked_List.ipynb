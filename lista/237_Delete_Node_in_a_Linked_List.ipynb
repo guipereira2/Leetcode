{
 "cells": [
  {
   "cell_type": "markdown",
   "metadata": {},
   "source": [
    "# 237. Delete Node in a Linked List"
   ]
  },
  {
   "cell_type": "markdown",
   "metadata": {},
   "source": [
    "There is a singly-linked list `head` and we want to delete a node `node` in it.\n",
    "\n",
    "You are given the node to be deleted `node`. You will **not be given access** to the first node of `head`.\n",
    "\n",
    "All the values of the linked list are **unique**, and it is guaranteed that the given node node is not the last node in the linked list.\n",
    "\n",
    "Delete the given node. Note that by deleting the node, we do not mean removing it from memory. We mean:\n",
    "\n",
    "- The value of the given node should not exist in the linked list.\n",
    "- The number of nodes in the linked list should decrease by one.\n",
    "- All the values before `node` should be in the same order.\n",
    "- All the values after `node` should be in the same order.\n",
    "\n",
    "**Custom testing**:\n",
    "\n",
    "- For the input, you should provide the entire linked list `head` and the node to be given `node`. `node` should not be the last node of the list and should be an actual node in the list.\n",
    "- We will build the linked list and pass the node to your function.\n",
    "- The output will be the entire list after calling your function.\n",
    "\n"
   ]
  },
  {
   "cell_type": "markdown",
   "metadata": {},
   "source": [
    "Example 1: \n",
    "\n",
    "- **Input**: head = [4,5,1,9], node = 5\n",
    "- **Output**: [4,1,9]\n",
    "- **Explanation**: You are given the second node with value 5, the linked list should become 4 -> 1 -> 9 after calling your function.\n"
   ]
  },
  {
   "cell_type": "markdown",
   "metadata": {},
   "source": [
    "Example 2: \n",
    "\n",
    "- **Input**: head = [4,5,1,9], node = 1\n",
    "- **Output**: [4,5,9]\n",
    "- **Explanation**: You are given the third node with value 1, the linked list should become 4 -> 5 -> 9 after calling your function."
   ]
  },
  {
   "cell_type": "markdown",
   "metadata": {},
   "source": [
    "## Solução"
   ]
  },
  {
   "cell_type": "markdown",
   "metadata": {},
   "source": [
    "- Abordagem: Copia o valor do próximo nó para o nó atual e ajusta o ponteiro para o próximo nó. "
   ]
  },
  {
   "cell_type": "code",
   "execution_count": 5,
   "metadata": {},
   "outputs": [],
   "source": [
    "class ListNode:\n",
    "    def __init__(self, val=0, next=None):\n",
    "        self.val = val\n",
    "        self.next = next\n",
    "\n",
    "def criar_lista(valores): \n",
    "    head = ListNode(valores[0])\n",
    "    atual = head \n",
    "\n",
    "    for valor in valores[1:]: \n",
    "        atual.next = ListNode(valor) \n",
    "        atual = atual.next \n",
    "    return head\n",
    "\n",
    "def imprimir_lista(head):\n",
    "    valores = []\n",
    "    atual = head\n",
    "    while atual: \n",
    "        valores.append(atual.val)\n",
    "        atual = atual.next \n",
    "    print(valores)\n",
    "\n",
    "def deleteNode(node):\n",
    "    \"\"\"\n",
    "    :type node: ListNode\n",
    "    :rtype: void Do not return anything, modify node in-place instead.\n",
    "    \"\"\"\n",
    "    node.val = node.next.val \n",
    "    node.next = node.next.next"
   ]
  },
  {
   "cell_type": "markdown",
   "metadata": {},
   "source": [
    "- Complexidade: $O(1)$ "
   ]
  },
  {
   "cell_type": "code",
   "execution_count": 9,
   "metadata": {},
   "outputs": [
    {
     "name": "stdout",
     "output_type": "stream",
     "text": [
      "[4, 1, 9]\n"
     ]
    }
   ],
   "source": [
    "# Exemplo 1 \n",
    "head_1 = [4,5,1,9] \n",
    "# node = 5\n",
    "lista_1 = criar_lista(head_1) \n",
    "no_1 = lista_1.next\n",
    "deleteNode(no_1)\n",
    "imprimir_lista(lista_1)"
   ]
  },
  {
   "cell_type": "code",
   "execution_count": 11,
   "metadata": {},
   "outputs": [
    {
     "name": "stdout",
     "output_type": "stream",
     "text": [
      "[4, 5, 9]\n"
     ]
    }
   ],
   "source": [
    "# Exemplo 2 \n",
    "head_2 = [4,5,1,9] \n",
    "# node = 1 \n",
    "lista_2 = criar_lista(head_2) \n",
    "no_2 = lista_2.next.next \n",
    "deleteNode(no_2)\n",
    "imprimir_lista(lista_2)"
   ]
  }
 ],
 "metadata": {
  "kernelspec": {
   "display_name": "base",
   "language": "python",
   "name": "python3"
  },
  "language_info": {
   "codemirror_mode": {
    "name": "ipython",
    "version": 3
   },
   "file_extension": ".py",
   "mimetype": "text/x-python",
   "name": "python",
   "nbconvert_exporter": "python",
   "pygments_lexer": "ipython3",
   "version": "3.11.11"
  }
 },
 "nbformat": 4,
 "nbformat_minor": 2
}
